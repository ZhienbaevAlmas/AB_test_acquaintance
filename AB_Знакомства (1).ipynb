{
 "cells": [
  {
   "cell_type": "markdown",
   "id": "1cdb3045-09e6-42be-91c8-982d5cde1893",
   "metadata": {},
   "source": [
    "# Приложение для знакомств"
   ]
  },
  {
   "cell_type": "code",
   "execution_count": 1,
   "id": "57185f2f-11ba-4cf9-87c5-3becf856fc06",
   "metadata": {},
   "outputs": [],
   "source": [
    "import pandas as pd\n",
    "import numpy as np\n",
    "\n",
    "import pingouin as pg\n",
    "import scipy.stats as ss\n",
    "from scipy.stats import chi2_contingency\n",
    "from scipy.stats import bootstrap\n",
    "import statsmodels.formula.api as smf\n",
    "\n",
    "import seaborn as sns\n",
    "import matplotlib.pyplot as plt\n",
    "#импортируем библиотеки"
   ]
  },
  {
   "cell_type": "code",
   "execution_count": 2,
   "id": "71d16172-bb72-4225-bc2a-f9a78d4dcaa5",
   "metadata": {},
   "outputs": [
    {
     "data": {
      "text/html": [
       "<div>\n",
       "<style scoped>\n",
       "    .dataframe tbody tr th:only-of-type {\n",
       "        vertical-align: middle;\n",
       "    }\n",
       "\n",
       "    .dataframe tbody tr th {\n",
       "        vertical-align: top;\n",
       "    }\n",
       "\n",
       "    .dataframe thead th {\n",
       "        text-align: right;\n",
       "    }\n",
       "</style>\n",
       "<table border=\"1\" class=\"dataframe\">\n",
       "  <thead>\n",
       "    <tr style=\"text-align: right;\">\n",
       "      <th></th>\n",
       "      <th>user_id_1</th>\n",
       "      <th>user_id_2</th>\n",
       "      <th>group</th>\n",
       "      <th>is_match</th>\n",
       "    </tr>\n",
       "  </thead>\n",
       "  <tbody>\n",
       "    <tr>\n",
       "      <th>0</th>\n",
       "      <td>79</td>\n",
       "      <td>91</td>\n",
       "      <td>1</td>\n",
       "      <td>1</td>\n",
       "    </tr>\n",
       "    <tr>\n",
       "      <th>1</th>\n",
       "      <td>716</td>\n",
       "      <td>353</td>\n",
       "      <td>1</td>\n",
       "      <td>1</td>\n",
       "    </tr>\n",
       "    <tr>\n",
       "      <th>2</th>\n",
       "      <td>423</td>\n",
       "      <td>677</td>\n",
       "      <td>0</td>\n",
       "      <td>0</td>\n",
       "    </tr>\n",
       "    <tr>\n",
       "      <th>3</th>\n",
       "      <td>658</td>\n",
       "      <td>165</td>\n",
       "      <td>1</td>\n",
       "      <td>1</td>\n",
       "    </tr>\n",
       "    <tr>\n",
       "      <th>4</th>\n",
       "      <td>969</td>\n",
       "      <td>155</td>\n",
       "      <td>0</td>\n",
       "      <td>1</td>\n",
       "    </tr>\n",
       "    <tr>\n",
       "      <th>...</th>\n",
       "      <td>...</td>\n",
       "      <td>...</td>\n",
       "      <td>...</td>\n",
       "      <td>...</td>\n",
       "    </tr>\n",
       "    <tr>\n",
       "      <th>14509</th>\n",
       "      <td>476</td>\n",
       "      <td>631</td>\n",
       "      <td>0</td>\n",
       "      <td>0</td>\n",
       "    </tr>\n",
       "    <tr>\n",
       "      <th>14510</th>\n",
       "      <td>455</td>\n",
       "      <td>770</td>\n",
       "      <td>1</td>\n",
       "      <td>0</td>\n",
       "    </tr>\n",
       "    <tr>\n",
       "      <th>14511</th>\n",
       "      <td>260</td>\n",
       "      <td>6</td>\n",
       "      <td>1</td>\n",
       "      <td>1</td>\n",
       "    </tr>\n",
       "    <tr>\n",
       "      <th>14512</th>\n",
       "      <td>885</td>\n",
       "      <td>812</td>\n",
       "      <td>1</td>\n",
       "      <td>1</td>\n",
       "    </tr>\n",
       "    <tr>\n",
       "      <th>14513</th>\n",
       "      <td>357</td>\n",
       "      <td>810</td>\n",
       "      <td>1</td>\n",
       "      <td>1</td>\n",
       "    </tr>\n",
       "  </tbody>\n",
       "</table>\n",
       "<p>14514 rows × 4 columns</p>\n",
       "</div>"
      ],
      "text/plain": [
       "       user_id_1  user_id_2  group  is_match\n",
       "0             79         91      1         1\n",
       "1            716        353      1         1\n",
       "2            423        677      0         0\n",
       "3            658        165      1         1\n",
       "4            969        155      0         1\n",
       "...          ...        ...    ...       ...\n",
       "14509        476        631      0         0\n",
       "14510        455        770      1         0\n",
       "14511        260          6      1         1\n",
       "14512        885        812      1         1\n",
       "14513        357        810      1         1\n",
       "\n",
       "[14514 rows x 4 columns]"
      ]
     },
     "execution_count": 2,
     "metadata": {},
     "output_type": "execute_result"
    }
   ],
   "source": [
    "df = pd.read_csv('dating_data.csv')\n",
    "df\n",
    "#читаем данные"
   ]
  },
  {
   "cell_type": "code",
   "execution_count": 3,
   "id": "607d9681-a1c8-4b3f-94d1-5d912c8399eb",
   "metadata": {},
   "outputs": [
    {
     "name": "stdout",
     "output_type": "stream",
     "text": [
      "Всего взаимодействий = 14514\n",
      "Количество пользователей которые взаимодействуют друг с другом (1) = 1000\n",
      "Количество пользователей которые взаимодействуют друг с другом(2) = 1000\n",
      "Количество взаимодействий в группе со старым алгоритмом = 4792\n",
      "Количество взаимодействий в группе с новым алгоритмом = 9722\n",
      "Количество пользователей со старым алгоритмом = 1002\n",
      "Количество пользователей с новым алгоритмом = 998\n"
     ]
    }
   ],
   "source": [
    "a = df.shape[0]\n",
    "b_1 = df['user_id_1'].nunique()\n",
    "b_2 = df['user_id_2'].nunique()\n",
    "c_0 = df['group'].value_counts()[0]\n",
    "c_1 = df['group'].value_counts()[1]\n",
    "d_0 = df.query('group == 0')['user_id_1'].nunique() + df.query('group == 0')['user_id_2'].nunique()\n",
    "d_1 = df.query('group == 1')['user_id_1'].nunique() + df.query('group == 1')['user_id_2'].nunique()\n",
    "\n",
    "print('Всего взаимодействий =', a)\n",
    "print('Количество пользователей которые взаимодействуют друг с другом (1) =', b_1)\n",
    "print('Количество пользователей которые взаимодействуют друг с другом(2) =', b_2)\n",
    "print('Количество взаимодействий в группе со старым алгоритмом =', c_0)\n",
    "print('Количество взаимодействий в группе с новым алгоритмом =', c_1)\n",
    "print('Количество пользователей со старым алгоритмом =', d_0)\n",
    "print('Количество пользователей с новым алгоритмом =', d_1)"
   ]
  },
  {
   "cell_type": "markdown",
   "id": "6b2ec60e-dbde-4efe-b3f0-c23a4e631dca",
   "metadata": {},
   "source": [
    "__Оценка системы сплитования через проверку на пересечение пользователей из разных групп с помощью множеств__"
   ]
  },
  {
   "cell_type": "code",
   "execution_count": 8,
   "id": "af324210-13d8-41a8-a9c7-615c391af350",
   "metadata": {},
   "outputs": [
    {
     "data": {
      "text/plain": [
       "set()"
      ]
     },
     "execution_count": 8,
     "metadata": {},
     "output_type": "execute_result"
    }
   ],
   "source": [
    "gr_01 = set(df.query('group==0').user_id_1)\n",
    "gr_11 = set(df.query('group==1').user_id_1)\n",
    "\n",
    "gr_01.intersection(gr_11)"
   ]
  },
  {
   "cell_type": "code",
   "execution_count": 9,
   "id": "35e0005c-bdab-4a0b-ada0-70b8d3bbbf4a",
   "metadata": {},
   "outputs": [
    {
     "data": {
      "text/plain": [
       "set()"
      ]
     },
     "execution_count": 9,
     "metadata": {},
     "output_type": "execute_result"
    }
   ],
   "source": [
    "gr_02 = set(df.query(\"group==0\")['user_id_2'])\n",
    "gr_12 = set(df.query(\"group==1\")['user_id_2'])\n",
    "\n",
    "gr_02.intersection(gr_12)"
   ]
  },
  {
   "cell_type": "markdown",
   "id": "7a4530ec-2d20-440d-b13d-933b37c55009",
   "metadata": {},
   "source": [
    "__Множества не пересекаются__ - пользователи из контрольной группы не могут быть частью тестовой группы"
   ]
  },
  {
   "cell_type": "markdown",
   "id": "3613e58c-3f8d-472e-9412-62a2c44a4833",
   "metadata": {},
   "source": [
    "## Гипотеза 1: изменилось соотношение мэтчей и не-мэтчей"
   ]
  },
  {
   "cell_type": "code",
   "execution_count": 10,
   "id": "c0472ee4-7e6c-4fae-8a6c-bba4af4f2e85",
   "metadata": {},
   "outputs": [
    {
     "data": {
      "text/html": [
       "<div>\n",
       "<style scoped>\n",
       "    .dataframe tbody tr th:only-of-type {\n",
       "        vertical-align: middle;\n",
       "    }\n",
       "\n",
       "    .dataframe tbody tr th {\n",
       "        vertical-align: top;\n",
       "    }\n",
       "\n",
       "    .dataframe thead th {\n",
       "        text-align: right;\n",
       "    }\n",
       "</style>\n",
       "<table border=\"1\" class=\"dataframe\">\n",
       "  <thead>\n",
       "    <tr style=\"text-align: right;\">\n",
       "      <th>is_match</th>\n",
       "      <th>0</th>\n",
       "      <th>1</th>\n",
       "    </tr>\n",
       "    <tr>\n",
       "      <th>group</th>\n",
       "      <th></th>\n",
       "      <th></th>\n",
       "    </tr>\n",
       "  </thead>\n",
       "  <tbody>\n",
       "    <tr>\n",
       "      <th>0</th>\n",
       "      <td>3858</td>\n",
       "      <td>934</td>\n",
       "    </tr>\n",
       "    <tr>\n",
       "      <th>1</th>\n",
       "      <td>5813</td>\n",
       "      <td>3909</td>\n",
       "    </tr>\n",
       "  </tbody>\n",
       "</table>\n",
       "</div>"
      ],
      "text/plain": [
       "is_match     0     1\n",
       "group               \n",
       "0         3858   934\n",
       "1         5813  3909"
      ]
     },
     "execution_count": 10,
     "metadata": {},
     "output_type": "execute_result"
    }
   ],
   "source": [
    "df_crosstab = pd.crosstab(df.group, df.is_match)\n",
    "df_crosstab"
   ]
  },
  {
   "cell_type": "code",
   "execution_count": 11,
   "id": "020be3a3-0de2-4ab6-9374-d458838ab317",
   "metadata": {},
   "outputs": [],
   "source": [
    "exp, obs, stats = pg.chi2_independence(data=df, \n",
    "                                       x=\"group\", \n",
    "                                       y=\"is_match\") "
   ]
  },
  {
   "cell_type": "code",
   "execution_count": 16,
   "id": "7b0bca92-9da6-4b2b-9ee4-8409ea400a98",
   "metadata": {},
   "outputs": [
    {
     "data": {
      "text/html": [
       "<div>\n",
       "<style scoped>\n",
       "    .dataframe tbody tr th:only-of-type {\n",
       "        vertical-align: middle;\n",
       "    }\n",
       "\n",
       "    .dataframe tbody tr th {\n",
       "        vertical-align: top;\n",
       "    }\n",
       "\n",
       "    .dataframe thead th {\n",
       "        text-align: right;\n",
       "    }\n",
       "</style>\n",
       "<table border=\"1\" class=\"dataframe\">\n",
       "  <thead>\n",
       "    <tr style=\"text-align: right;\">\n",
       "      <th></th>\n",
       "      <th>test</th>\n",
       "      <th>lambda</th>\n",
       "      <th>chi2</th>\n",
       "      <th>dof</th>\n",
       "      <th>pval</th>\n",
       "      <th>cramer</th>\n",
       "      <th>power</th>\n",
       "    </tr>\n",
       "  </thead>\n",
       "  <tbody>\n",
       "    <tr>\n",
       "      <th>0</th>\n",
       "      <td>pearson</td>\n",
       "      <td>1.000000</td>\n",
       "      <td>618.688914</td>\n",
       "      <td>1.0</td>\n",
       "      <td>1.441830e-136</td>\n",
       "      <td>0.206463</td>\n",
       "      <td>1.0</td>\n",
       "    </tr>\n",
       "    <tr>\n",
       "      <th>1</th>\n",
       "      <td>cressie-read</td>\n",
       "      <td>0.666667</td>\n",
       "      <td>628.560791</td>\n",
       "      <td>1.0</td>\n",
       "      <td>1.027630e-138</td>\n",
       "      <td>0.208104</td>\n",
       "      <td>1.0</td>\n",
       "    </tr>\n",
       "    <tr>\n",
       "      <th>2</th>\n",
       "      <td>log-likelihood</td>\n",
       "      <td>0.000000</td>\n",
       "      <td>652.966812</td>\n",
       "      <td>1.0</td>\n",
       "      <td>5.056969e-144</td>\n",
       "      <td>0.212106</td>\n",
       "      <td>1.0</td>\n",
       "    </tr>\n",
       "    <tr>\n",
       "      <th>3</th>\n",
       "      <td>freeman-tukey</td>\n",
       "      <td>-0.500000</td>\n",
       "      <td>675.931262</td>\n",
       "      <td>1.0</td>\n",
       "      <td>5.125545e-149</td>\n",
       "      <td>0.215803</td>\n",
       "      <td>1.0</td>\n",
       "    </tr>\n",
       "    <tr>\n",
       "      <th>4</th>\n",
       "      <td>mod-log-likelihood</td>\n",
       "      <td>-1.000000</td>\n",
       "      <td>703.556093</td>\n",
       "      <td>1.0</td>\n",
       "      <td>5.039774e-155</td>\n",
       "      <td>0.220169</td>\n",
       "      <td>1.0</td>\n",
       "    </tr>\n",
       "    <tr>\n",
       "      <th>5</th>\n",
       "      <td>neyman</td>\n",
       "      <td>-2.000000</td>\n",
       "      <td>775.869247</td>\n",
       "      <td>1.0</td>\n",
       "      <td>9.519662e-171</td>\n",
       "      <td>0.231207</td>\n",
       "      <td>1.0</td>\n",
       "    </tr>\n",
       "  </tbody>\n",
       "</table>\n",
       "</div>"
      ],
      "text/plain": [
       "                 test    lambda        chi2  dof           pval    cramer  \\\n",
       "0             pearson  1.000000  618.688914  1.0  1.441830e-136  0.206463   \n",
       "1        cressie-read  0.666667  628.560791  1.0  1.027630e-138  0.208104   \n",
       "2      log-likelihood  0.000000  652.966812  1.0  5.056969e-144  0.212106   \n",
       "3       freeman-tukey -0.500000  675.931262  1.0  5.125545e-149  0.215803   \n",
       "4  mod-log-likelihood -1.000000  703.556093  1.0  5.039774e-155  0.220169   \n",
       "5              neyman -2.000000  775.869247  1.0  9.519662e-171  0.231207   \n",
       "\n",
       "   power  \n",
       "0    1.0  \n",
       "1    1.0  \n",
       "2    1.0  \n",
       "3    1.0  \n",
       "4    1.0  \n",
       "5    1.0  "
      ]
     },
     "execution_count": 16,
     "metadata": {},
     "output_type": "execute_result"
    }
   ],
   "source": [
    "stats\n",
    "# Коэффициент крамера - мера тесноты связи в таблицах сопряженности.\n",
    "# Коэффициент 0 - независимые переменные\n",
    "              #1 - зависимые переменные\n"
   ]
  },
  {
   "cell_type": "code",
   "execution_count": 13,
   "id": "81da7316-d4e7-4668-a542-fd081ae96b13",
   "metadata": {},
   "outputs": [
    {
     "data": {
      "text/html": [
       "<div>\n",
       "<style scoped>\n",
       "    .dataframe tbody tr th:only-of-type {\n",
       "        vertical-align: middle;\n",
       "    }\n",
       "\n",
       "    .dataframe tbody tr th {\n",
       "        vertical-align: top;\n",
       "    }\n",
       "\n",
       "    .dataframe thead th {\n",
       "        text-align: right;\n",
       "    }\n",
       "</style>\n",
       "<table border=\"1\" class=\"dataframe\">\n",
       "  <thead>\n",
       "    <tr style=\"text-align: right;\">\n",
       "      <th>is_match</th>\n",
       "      <th>0</th>\n",
       "      <th>1</th>\n",
       "    </tr>\n",
       "    <tr>\n",
       "      <th>group</th>\n",
       "      <th></th>\n",
       "      <th></th>\n",
       "    </tr>\n",
       "  </thead>\n",
       "  <tbody>\n",
       "    <tr>\n",
       "      <th>0</th>\n",
       "      <td>3858.0</td>\n",
       "      <td>934.0</td>\n",
       "    </tr>\n",
       "    <tr>\n",
       "      <th>1</th>\n",
       "      <td>5813.0</td>\n",
       "      <td>3909.0</td>\n",
       "    </tr>\n",
       "  </tbody>\n",
       "</table>\n",
       "</div>"
      ],
      "text/plain": [
       "is_match       0       1\n",
       "group                   \n",
       "0         3858.0   934.0\n",
       "1         5813.0  3909.0"
      ]
     },
     "execution_count": 13,
     "metadata": {},
     "output_type": "execute_result"
    }
   ],
   "source": [
    "cross_data_from_chi = df.groupby(['group','is_match'], as_index = False) \\\n",
    "                                .agg({'user_id_1':'count'}) \\\n",
    "                                .rename(columns={'user_id_1':'count_events'}) \\\n",
    "                                .pivot_table(index='group', columns='is_match', values='count_events')\n",
    "cross_data_from_chi"
   ]
  },
  {
   "cell_type": "code",
   "execution_count": 14,
   "id": "19529216-1f8d-431b-b21a-6d95e2c9156c",
   "metadata": {},
   "outputs": [
    {
     "name": "stdout",
     "output_type": "stream",
     "text": [
      "T-statistic = 618.6889141576198\n",
      "p-value = 1.4418299163662586e-136\n",
      "The degrees of freedom = 1\n"
     ]
    }
   ],
   "source": [
    "res_statistic, res_pvalue, res_dof, res_expected_freq = chi2_contingency(cross_data_from_chi)\n",
    "print('T-statistic =', res_statistic)\n",
    "print('p-value =', res_pvalue)\n",
    "print('The degrees of freedom =', res_dof)"
   ]
  },
  {
   "cell_type": "markdown",
   "id": "7360aeab-9ab7-4b10-9768-33e5e6bc27a1",
   "metadata": {},
   "source": [
    "__Соотношение мэтчей и не-мэтчей изменилось статистически значимо__ (в пользу тестовой группы)"
   ]
  },
  {
   "cell_type": "markdown",
   "id": "33385ec8-17e0-4809-8cbf-90f6f3408560",
   "metadata": {},
   "source": [
    "## Гипотеза 2: изменилось число анкет на пользователя"
   ]
  },
  {
   "cell_type": "code",
   "execution_count": 17,
   "id": "6750171f-51d0-46ad-922c-66b2c9c58e04",
   "metadata": {},
   "outputs": [
    {
     "data": {
      "text/html": [
       "<div>\n",
       "<style scoped>\n",
       "    .dataframe tbody tr th:only-of-type {\n",
       "        vertical-align: middle;\n",
       "    }\n",
       "\n",
       "    .dataframe tbody tr th {\n",
       "        vertical-align: top;\n",
       "    }\n",
       "\n",
       "    .dataframe thead th {\n",
       "        text-align: right;\n",
       "    }\n",
       "</style>\n",
       "<table border=\"1\" class=\"dataframe\">\n",
       "  <thead>\n",
       "    <tr style=\"text-align: right;\">\n",
       "      <th></th>\n",
       "      <th>group</th>\n",
       "      <th>user_id_1</th>\n",
       "      <th>size</th>\n",
       "    </tr>\n",
       "  </thead>\n",
       "  <tbody>\n",
       "    <tr>\n",
       "      <th>0</th>\n",
       "      <td>0</td>\n",
       "      <td>4</td>\n",
       "      <td>9</td>\n",
       "    </tr>\n",
       "    <tr>\n",
       "      <th>1</th>\n",
       "      <td>0</td>\n",
       "      <td>10</td>\n",
       "      <td>6</td>\n",
       "    </tr>\n",
       "    <tr>\n",
       "      <th>2</th>\n",
       "      <td>0</td>\n",
       "      <td>12</td>\n",
       "      <td>12</td>\n",
       "    </tr>\n",
       "    <tr>\n",
       "      <th>3</th>\n",
       "      <td>0</td>\n",
       "      <td>14</td>\n",
       "      <td>8</td>\n",
       "    </tr>\n",
       "    <tr>\n",
       "      <th>4</th>\n",
       "      <td>0</td>\n",
       "      <td>15</td>\n",
       "      <td>20</td>\n",
       "    </tr>\n",
       "    <tr>\n",
       "      <th>...</th>\n",
       "      <td>...</td>\n",
       "      <td>...</td>\n",
       "      <td>...</td>\n",
       "    </tr>\n",
       "    <tr>\n",
       "      <th>995</th>\n",
       "      <td>1</td>\n",
       "      <td>987</td>\n",
       "      <td>23</td>\n",
       "    </tr>\n",
       "    <tr>\n",
       "      <th>996</th>\n",
       "      <td>1</td>\n",
       "      <td>992</td>\n",
       "      <td>21</td>\n",
       "    </tr>\n",
       "    <tr>\n",
       "      <th>997</th>\n",
       "      <td>1</td>\n",
       "      <td>993</td>\n",
       "      <td>18</td>\n",
       "    </tr>\n",
       "    <tr>\n",
       "      <th>998</th>\n",
       "      <td>1</td>\n",
       "      <td>998</td>\n",
       "      <td>18</td>\n",
       "    </tr>\n",
       "    <tr>\n",
       "      <th>999</th>\n",
       "      <td>1</td>\n",
       "      <td>1000</td>\n",
       "      <td>23</td>\n",
       "    </tr>\n",
       "  </tbody>\n",
       "</table>\n",
       "<p>1000 rows × 3 columns</p>\n",
       "</div>"
      ],
      "text/plain": [
       "     group  user_id_1  size\n",
       "0        0          4     9\n",
       "1        0         10     6\n",
       "2        0         12    12\n",
       "3        0         14     8\n",
       "4        0         15    20\n",
       "..     ...        ...   ...\n",
       "995      1        987    23\n",
       "996      1        992    21\n",
       "997      1        993    18\n",
       "998      1        998    18\n",
       "999      1       1000    23\n",
       "\n",
       "[1000 rows x 3 columns]"
      ]
     },
     "execution_count": 17,
     "metadata": {},
     "output_type": "execute_result"
    }
   ],
   "source": [
    "prof_per_user = df.groupby([\"group\", \"user_id_1\"], as_index=False).size()\n",
    "prof_per_user\n",
    "# Активность взаимодействий пользователей - количество действий (лайк или дизлайк) на пользователя"
   ]
  },
  {
   "cell_type": "code",
   "execution_count": 18,
   "id": "6ef272e8-0905-417a-a25c-0f7366850193",
   "metadata": {},
   "outputs": [
    {
     "data": {
      "text/plain": [
       "<Axes: xlabel='size', ylabel='Count'>"
      ]
     },
     "execution_count": 18,
     "metadata": {},
     "output_type": "execute_result"
    },
    {
     "data": {
      "image/png": "[encoded data removed]",
      "text/plain": [
       "<Figure size 640x480 with 1 Axes>"
      ]
     },
     "metadata": {},
     "output_type": "display_data"
    }
   ],
   "source": [
    "sns.histplot(data=prof_per_user, x=\"size\", hue=\"group\")"
   ]
  },
  {
   "cell_type": "code",
   "execution_count": 20,
   "id": "e414ea9b-679b-42a3-9e24-760053de156f",
   "metadata": {},
   "outputs": [
    {
     "data": {
      "text/html": [
       "<div>\n",
       "<style scoped>\n",
       "    .dataframe tbody tr th:only-of-type {\n",
       "        vertical-align: middle;\n",
       "    }\n",
       "\n",
       "    .dataframe tbody tr th {\n",
       "        vertical-align: top;\n",
       "    }\n",
       "\n",
       "    .dataframe thead th {\n",
       "        text-align: right;\n",
       "    }\n",
       "</style>\n",
       "<table border=\"1\" class=\"dataframe\">\n",
       "  <thead>\n",
       "    <tr style=\"text-align: right;\">\n",
       "      <th></th>\n",
       "      <th>T</th>\n",
       "      <th>dof</th>\n",
       "      <th>alternative</th>\n",
       "      <th>p-val</th>\n",
       "      <th>CI95%</th>\n",
       "      <th>cohen-d</th>\n",
       "      <th>BF10</th>\n",
       "      <th>power</th>\n",
       "    </tr>\n",
       "  </thead>\n",
       "  <tbody>\n",
       "    <tr>\n",
       "      <th>T-test</th>\n",
       "      <td>-51.85607</td>\n",
       "      <td>997.694538</td>\n",
       "      <td>two-sided</td>\n",
       "      <td>2.005369e-285</td>\n",
       "      <td>[-10.29, -9.54]</td>\n",
       "      <td>3.279531</td>\n",
       "      <td>9.827e+280</td>\n",
       "      <td>1.0</td>\n",
       "    </tr>\n",
       "  </tbody>\n",
       "</table>\n",
       "</div>"
      ],
      "text/plain": [
       "               T         dof alternative          p-val            CI95%  \\\n",
       "T-test -51.85607  997.694538   two-sided  2.005369e-285  [-10.29, -9.54]   \n",
       "\n",
       "         cohen-d        BF10  power  \n",
       "T-test  3.279531  9.827e+280    1.0  "
      ]
     },
     "execution_count": 20,
     "metadata": {},
     "output_type": "execute_result"
    }
   ],
   "source": [
    "pg.ttest(x=prof_per_user.query(\"group==0\")[\"size\"], \n",
    "         y=prof_per_user.query(\"group==1\")[\"size\"]) \n",
    "#BF10 - насколько альтернативная гипотеза вероятнее нулевой\n",
    "#CI95% - доверительный интервал различий средних относительно контрольной группы (в контрольной группе в среднем анкет на 10 меньше чем в тестовой группе)\n",
    "#cohen-d - стандартизованное различие в средних (разница в 3 стандартных отклоненения)"
   ]
  },
  {
   "cell_type": "code",
   "execution_count": 22,
   "id": "928e8f92-384a-4a3e-b898-74a320b0359d",
   "metadata": {},
   "outputs": [
    {
     "data": {
      "text/html": [
       "<div>\n",
       "<style scoped>\n",
       "    .dataframe tbody tr th:only-of-type {\n",
       "        vertical-align: middle;\n",
       "    }\n",
       "\n",
       "    .dataframe tbody tr th {\n",
       "        vertical-align: top;\n",
       "    }\n",
       "\n",
       "    .dataframe thead th {\n",
       "        text-align: right;\n",
       "    }\n",
       "</style>\n",
       "<table border=\"1\" class=\"dataframe\">\n",
       "  <thead>\n",
       "    <tr style=\"text-align: right;\">\n",
       "      <th></th>\n",
       "      <th>U-val</th>\n",
       "      <th>alternative</th>\n",
       "      <th>p-val</th>\n",
       "      <th>RBC</th>\n",
       "      <th>CLES</th>\n",
       "    </tr>\n",
       "  </thead>\n",
       "  <tbody>\n",
       "    <tr>\n",
       "      <th>MWU</th>\n",
       "      <td>3316.0</td>\n",
       "      <td>two-sided</td>\n",
       "      <td>6.905155e-157</td>\n",
       "      <td>0.973472</td>\n",
       "      <td>0.013264</td>\n",
       "    </tr>\n",
       "  </tbody>\n",
       "</table>\n",
       "</div>"
      ],
      "text/plain": [
       "      U-val alternative          p-val       RBC      CLES\n",
       "MWU  3316.0   two-sided  6.905155e-157  0.973472  0.013264"
      ]
     },
     "execution_count": 22,
     "metadata": {},
     "output_type": "execute_result"
    }
   ],
   "source": [
    "pg.mwu(x=prof_per_user.query(\"group==0\")[\"size\"], \n",
    "       y=prof_per_user.query(\"group==1\")[\"size\"]) \n",
    "#Манн-Уитни показывает, \n",
    "# что при схожих распределениях, тест показывает какова вероятность, что  случайно взятые данные из первой группы (контрольной) будут больше данные из второй \n",
    "# CLES = 0.01 - 1% вероятности"
   ]
  },
  {
   "cell_type": "markdown",
   "id": "1782b9a7-3d62-4e8f-9761-f7776398ba0d",
   "metadata": {},
   "source": [
    "__Число анкет на пользователя изменилось статистически значимо__ (в пользу тестовой группы)"
   ]
  },
  {
   "cell_type": "markdown",
   "id": "637ff46a-6c50-4fbd-9a24-01521a3a7a02",
   "metadata": {},
   "source": [
    "## Гипотеза 3: изменилось число мэтчей на пользователя"
   ]
  },
  {
   "cell_type": "code",
   "execution_count": 23,
   "id": "449da193-fd3b-42dd-b1da-c99d55256f40",
   "metadata": {},
   "outputs": [
    {
     "data": {
      "text/html": [
       "<div>\n",
       "<style scoped>\n",
       "    .dataframe tbody tr th:only-of-type {\n",
       "        vertical-align: middle;\n",
       "    }\n",
       "\n",
       "    .dataframe tbody tr th {\n",
       "        vertical-align: top;\n",
       "    }\n",
       "\n",
       "    .dataframe thead th {\n",
       "        text-align: right;\n",
       "    }\n",
       "</style>\n",
       "<table border=\"1\" class=\"dataframe\">\n",
       "  <thead>\n",
       "    <tr style=\"text-align: right;\">\n",
       "      <th></th>\n",
       "      <th>group</th>\n",
       "      <th>user_id_1</th>\n",
       "      <th>size</th>\n",
       "    </tr>\n",
       "  </thead>\n",
       "  <tbody>\n",
       "    <tr>\n",
       "      <th>0</th>\n",
       "      <td>0</td>\n",
       "      <td>4</td>\n",
       "      <td>2</td>\n",
       "    </tr>\n",
       "    <tr>\n",
       "      <th>1</th>\n",
       "      <td>0</td>\n",
       "      <td>10</td>\n",
       "      <td>3</td>\n",
       "    </tr>\n",
       "    <tr>\n",
       "      <th>2</th>\n",
       "      <td>0</td>\n",
       "      <td>12</td>\n",
       "      <td>1</td>\n",
       "    </tr>\n",
       "    <tr>\n",
       "      <th>3</th>\n",
       "      <td>0</td>\n",
       "      <td>15</td>\n",
       "      <td>3</td>\n",
       "    </tr>\n",
       "    <tr>\n",
       "      <th>4</th>\n",
       "      <td>0</td>\n",
       "      <td>17</td>\n",
       "      <td>1</td>\n",
       "    </tr>\n",
       "    <tr>\n",
       "      <th>...</th>\n",
       "      <td>...</td>\n",
       "      <td>...</td>\n",
       "      <td>...</td>\n",
       "    </tr>\n",
       "    <tr>\n",
       "      <th>915</th>\n",
       "      <td>1</td>\n",
       "      <td>987</td>\n",
       "      <td>8</td>\n",
       "    </tr>\n",
       "    <tr>\n",
       "      <th>916</th>\n",
       "      <td>1</td>\n",
       "      <td>992</td>\n",
       "      <td>8</td>\n",
       "    </tr>\n",
       "    <tr>\n",
       "      <th>917</th>\n",
       "      <td>1</td>\n",
       "      <td>993</td>\n",
       "      <td>6</td>\n",
       "    </tr>\n",
       "    <tr>\n",
       "      <th>918</th>\n",
       "      <td>1</td>\n",
       "      <td>998</td>\n",
       "      <td>10</td>\n",
       "    </tr>\n",
       "    <tr>\n",
       "      <th>919</th>\n",
       "      <td>1</td>\n",
       "      <td>1000</td>\n",
       "      <td>12</td>\n",
       "    </tr>\n",
       "  </tbody>\n",
       "</table>\n",
       "<p>920 rows × 3 columns</p>\n",
       "</div>"
      ],
      "text/plain": [
       "     group  user_id_1  size\n",
       "0        0          4     2\n",
       "1        0         10     3\n",
       "2        0         12     1\n",
       "3        0         15     3\n",
       "4        0         17     1\n",
       "..     ...        ...   ...\n",
       "915      1        987     8\n",
       "916      1        992     8\n",
       "917      1        993     6\n",
       "918      1        998    10\n",
       "919      1       1000    12\n",
       "\n",
       "[920 rows x 3 columns]"
      ]
     },
     "execution_count": 23,
     "metadata": {},
     "output_type": "execute_result"
    }
   ],
   "source": [
    "matches_per_user = df.query(\"is_match==1\").groupby([\"group\", \"user_id_1\"], as_index=False).size()\n",
    "matches_per_user"
   ]
  },
  {
   "cell_type": "code",
   "execution_count": 24,
   "id": "a4dffc38-367f-45c5-a5c8-4e0831dc1bb0",
   "metadata": {},
   "outputs": [
    {
     "data": {
      "text/plain": [
       "<Axes: xlabel='size', ylabel='Count'>"
      ]
     },
     "execution_count": 24,
     "metadata": {},
     "output_type": "execute_result"
    },
    {
     "data": {
      "image/png": "[encoded data removed]",
      "text/plain": [
       "<Figure size 640x480 with 1 Axes>"
      ]
     },
     "metadata": {},
     "output_type": "display_data"
    }
   ],
   "source": [
    "sns.histplot(data=matches_per_user, x=\"size\", hue=\"group\")"
   ]
  },
  {
   "cell_type": "code",
   "execution_count": 25,
   "id": "6bf6432f-ec94-477a-acc4-2dcb94f2b3aa",
   "metadata": {},
   "outputs": [
    {
     "data": {
      "text/html": [
       "<div>\n",
       "<style scoped>\n",
       "    .dataframe tbody tr th:only-of-type {\n",
       "        vertical-align: middle;\n",
       "    }\n",
       "\n",
       "    .dataframe tbody tr th {\n",
       "        vertical-align: top;\n",
       "    }\n",
       "\n",
       "    .dataframe thead th {\n",
       "        text-align: right;\n",
       "    }\n",
       "</style>\n",
       "<table border=\"1\" class=\"dataframe\">\n",
       "  <thead>\n",
       "    <tr style=\"text-align: right;\">\n",
       "      <th></th>\n",
       "      <th>T</th>\n",
       "      <th>dof</th>\n",
       "      <th>alternative</th>\n",
       "      <th>p-val</th>\n",
       "      <th>CI95%</th>\n",
       "      <th>cohen-d</th>\n",
       "      <th>BF10</th>\n",
       "      <th>power</th>\n",
       "    </tr>\n",
       "  </thead>\n",
       "  <tbody>\n",
       "    <tr>\n",
       "      <th>T-test</th>\n",
       "      <td>-45.232978</td>\n",
       "      <td>744.211281</td>\n",
       "      <td>two-sided</td>\n",
       "      <td>9.229585e-216</td>\n",
       "      <td>[-5.88, -5.39]</td>\n",
       "      <td>2.843535</td>\n",
       "      <td>3.166e+231</td>\n",
       "      <td>1.0</td>\n",
       "    </tr>\n",
       "  </tbody>\n",
       "</table>\n",
       "</div>"
      ],
      "text/plain": [
       "                T         dof alternative          p-val           CI95%  \\\n",
       "T-test -45.232978  744.211281   two-sided  9.229585e-216  [-5.88, -5.39]   \n",
       "\n",
       "         cohen-d        BF10  power  \n",
       "T-test  2.843535  3.166e+231    1.0  "
      ]
     },
     "execution_count": 25,
     "metadata": {},
     "output_type": "execute_result"
    }
   ],
   "source": [
    "pg.ttest(x=matches_per_user.query(\"group==0\")[\"size\"], \n",
    "         y=matches_per_user.query(\"group==1\")[\"size\"])"
   ]
  },
  {
   "cell_type": "code",
   "execution_count": 26,
   "id": "d20ed78b-85c2-475e-911a-bf141c75f19a",
   "metadata": {},
   "outputs": [
    {
     "data": {
      "text/html": [
       "<div>\n",
       "<style scoped>\n",
       "    .dataframe tbody tr th:only-of-type {\n",
       "        vertical-align: middle;\n",
       "    }\n",
       "\n",
       "    .dataframe tbody tr th {\n",
       "        vertical-align: top;\n",
       "    }\n",
       "\n",
       "    .dataframe thead th {\n",
       "        text-align: right;\n",
       "    }\n",
       "</style>\n",
       "<table border=\"1\" class=\"dataframe\">\n",
       "  <thead>\n",
       "    <tr style=\"text-align: right;\">\n",
       "      <th></th>\n",
       "      <th>U-val</th>\n",
       "      <th>alternative</th>\n",
       "      <th>p-val</th>\n",
       "      <th>RBC</th>\n",
       "      <th>CLES</th>\n",
       "    </tr>\n",
       "  </thead>\n",
       "  <tbody>\n",
       "    <tr>\n",
       "      <th>MWU</th>\n",
       "      <td>3944.5</td>\n",
       "      <td>two-sided</td>\n",
       "      <td>1.570060e-141</td>\n",
       "      <td>0.962461</td>\n",
       "      <td>0.018769</td>\n",
       "    </tr>\n",
       "  </tbody>\n",
       "</table>\n",
       "</div>"
      ],
      "text/plain": [
       "      U-val alternative          p-val       RBC      CLES\n",
       "MWU  3944.5   two-sided  1.570060e-141  0.962461  0.018769"
      ]
     },
     "execution_count": 26,
     "metadata": {},
     "output_type": "execute_result"
    }
   ],
   "source": [
    "pg.mwu(x=matches_per_user.query(\"group==0\")[\"size\"], \n",
    "       y=matches_per_user.query(\"group==1\")[\"size\"])"
   ]
  },
  {
   "cell_type": "markdown",
   "id": "8eca5cb9-c8bd-49ba-b7f6-f957e568adff",
   "metadata": {},
   "source": [
    "Для проверки гипотезы о различиях в распределениях используем метод - тест Колмогорова-Смирнова:"
   ]
  },
  {
   "cell_type": "code",
   "execution_count": 28,
   "id": "4dc1b873-0c13-4f73-b5ce-3a508df1f9a5",
   "metadata": {},
   "outputs": [
    {
     "data": {
      "text/plain": [
       "KstestResult(statistic=0.86734616189878, pvalue=7.275661293438345e-179, statistic_location=4, statistic_sign=1)"
      ]
     },
     "execution_count": 28,
     "metadata": {},
     "output_type": "execute_result"
    }
   ],
   "source": [
    "ss.ks_2samp(data1=matches_per_user.query(\"group==0\")[\"size\"], \n",
    "            data2=matches_per_user.query(\"group==1\")[\"size\"])"
   ]
  },
  {
   "cell_type": "markdown",
   "id": "046f8aed-3732-4b5e-82a9-6a6ffc7dcad1",
   "metadata": {},
   "source": [
    "Модифицированный вариант критерия Манна-Уитни, который проверяет стохастическое доминирование - тест Бруннера-Манцеля:"
   ]
  },
  {
   "cell_type": "code",
   "execution_count": 30,
   "id": "4ee4d607-4dc5-44e6-82df-9fe3b47ba2e8",
   "metadata": {},
   "outputs": [
    {
     "data": {
      "text/plain": [
       "BrunnerMunzelResult(statistic=138.3937168748187, pvalue=0.0)"
      ]
     },
     "execution_count": 30,
     "metadata": {},
     "output_type": "execute_result"
    }
   ],
   "source": [
    "ss.brunnermunzel(x=matches_per_user.query(\"group==0\")[\"size\"], \n",
    "                 y=matches_per_user.query(\"group==1\")[\"size\"])"
   ]
  },
  {
   "cell_type": "markdown",
   "id": "d7ff03dc-7256-4b46-8222-e4dd60247164",
   "metadata": {},
   "source": [
    "__Bootstrap__"
   ]
  },
  {
   "cell_type": "markdown",
   "id": "53eaea14-534f-4d6e-8be9-4af9c71ee1bd",
   "metadata": {},
   "source": [
    "**_Доверительный интервал для среднего и медианы_**"
   ]
  },
  {
   "cell_type": "code",
   "execution_count": 42,
   "id": "fa3b5a90-5af2-488a-9814-5fc34b46d1ab",
   "metadata": {},
   "outputs": [
    {
     "data": {
      "text/plain": [
       "BootstrapResult(confidence_interval=ConfidenceInterval(low=2.1018957345971563, high=2.3306069557131748), bootstrap_distribution=array([2.33649289, 2.19905213, 2.37440758, ..., 2.23696682, 2.1492891 ,\n",
       "       2.18009479]), standard_error=0.05856905762300017)"
      ]
     },
     "execution_count": 42,
     "metadata": {},
     "output_type": "execute_result"
    }
   ],
   "source": [
    "bootstrap((matches_per_user.query(\"group==0\")[\"size\"], ), np.mean)\n",
    "# Среднее от 2.106 до 2.33"
   ]
  },
  {
   "cell_type": "code",
   "execution_count": 43,
   "id": "a87d3ca2-a986-4746-831e-e67d65d91367",
   "metadata": {},
   "outputs": [
    {
     "data": {
      "text/plain": [
       "BootstrapResult(confidence_interval=ConfidenceInterval(low=7.636546184738956, high=8.068273092369479), bootstrap_distribution=array([7.8313253 , 7.89156627, 7.79317269, ..., 7.74698795, 7.88955823,\n",
       "       7.8935743 ]), standard_error=0.11025859668009161)"
      ]
     },
     "execution_count": 43,
     "metadata": {},
     "output_type": "execute_result"
    }
   ],
   "source": [
    "bootstrap((matches_per_user.query(\"group==1\")[\"size\"], ), np.mean)\n",
    "# Среднее от 7.634 до 8.07"
   ]
  },
  {
   "cell_type": "code",
   "execution_count": 39,
   "id": "d09e655e-8dea-4f7b-8a4c-58086f870f38",
   "metadata": {},
   "outputs": [
    {
     "name": "stderr",
     "output_type": "stream",
     "text": [
      "C:\\Python\\Python312\\Lib\\site-packages\\scipy\\stats\\_resampling.py:149: RuntimeWarning: invalid value encountered in scalar divide\n",
      "  a_hat = 1/6 * sum(nums) / sum(dens)**(3/2)\n",
      "C:\\Users\\Алмас\\AppData\\Local\\Temp\\ipykernel_11528\\1528919257.py:1: DegenerateDataWarning: The BCa confidence interval cannot be calculated. This problem is known to occur when the distribution is degenerate or the statistic is np.min.\n",
      "  bootstrap((matches_per_user.query(\"group==0\")[\"size\"], ), np.median)\n"
     ]
    },
    {
     "data": {
      "text/plain": [
       "BootstrapResult(confidence_interval=ConfidenceInterval(low=nan, high=nan), bootstrap_distribution=array([2., 2., 2., ..., 2., 2., 2.]), standard_error=0.0)"
      ]
     },
     "execution_count": 39,
     "metadata": {},
     "output_type": "execute_result"
    }
   ],
   "source": [
    "bootstrap((matches_per_user.query(\"group==0\")[\"size\"], ), np.median)\n",
    "# Медиана = 2"
   ]
  },
  {
   "cell_type": "code",
   "execution_count": 40,
   "id": "bc67b10c-b4c0-4c2b-93b1-22460039c768",
   "metadata": {},
   "outputs": [
    {
     "name": "stderr",
     "output_type": "stream",
     "text": [
      "C:\\Python\\Python312\\Lib\\site-packages\\scipy\\stats\\_resampling.py:149: RuntimeWarning: invalid value encountered in scalar divide\n",
      "  a_hat = 1/6 * sum(nums) / sum(dens)**(3/2)\n",
      "C:\\Users\\Алмас\\AppData\\Local\\Temp\\ipykernel_11528\\2812672564.py:1: DegenerateDataWarning: The BCa confidence interval cannot be calculated. This problem is known to occur when the distribution is degenerate or the statistic is np.min.\n",
      "  bootstrap((matches_per_user.query(\"group==1\")[\"size\"], ), np.median)\n"
     ]
    },
    {
     "data": {
      "text/plain": [
       "BootstrapResult(confidence_interval=ConfidenceInterval(low=nan, high=nan), bootstrap_distribution=array([8., 8., 8., ..., 8., 8., 8.]), standard_error=0.059044523937592956)"
      ]
     },
     "execution_count": 40,
     "metadata": {},
     "output_type": "execute_result"
    }
   ],
   "source": [
    "bootstrap((matches_per_user.query(\"group==1\")[\"size\"], ), np.median)\n",
    "# Медиана = 8"
   ]
  },
  {
   "cell_type": "markdown",
   "id": "8b288355-95a1-4d65-88bf-c09bd6b775bd",
   "metadata": {},
   "source": [
    "**_Доверительный интервал для  различий в среднем и медиане_**"
   ]
  },
  {
   "cell_type": "code",
   "execution_count": 45,
   "id": "d89e9327-3c39-4483-8aa0-feefbb5b1921",
   "metadata": {},
   "outputs": [
    {
     "data": {
      "text/plain": [
       "BootstrapResult(confidence_interval=ConfidenceInterval(low=-5.885210431220977, high=-5.398827590194425), bootstrap_distribution=array([-5.64222768, -5.80951293, -5.8575344 , ..., -5.57503949,\n",
       "       -5.72753574, -5.42038295]), standard_error=0.1247560717775309)"
      ]
     },
     "execution_count": 45,
     "metadata": {},
     "output_type": "execute_result"
    }
   ],
   "source": [
    "ss.bootstrap([matches_per_user.query(\"group==0\")[\"size\"], \n",
    "              matches_per_user.query(\"group==1\")[\"size\"]], \n",
    "             statistic=lambda x, y: np.mean(x) - np.mean(y))\n",
    "# Доверительный интервал для различий в средних составляет [-5.88; 5.39]"
   ]
  },
  {
   "cell_type": "code",
   "execution_count": 44,
   "id": "a8f28ed2-124e-4660-a616-6ff5130f3e3a",
   "metadata": {},
   "outputs": [
    {
     "name": "stderr",
     "output_type": "stream",
     "text": [
      "C:\\Python\\Python312\\Lib\\site-packages\\scipy\\stats\\_resampling.py:149: RuntimeWarning: invalid value encountered in scalar divide\n",
      "  a_hat = 1/6 * sum(nums) / sum(dens)**(3/2)\n",
      "C:\\Users\\Алмас\\AppData\\Local\\Temp\\ipykernel_11528\\499326604.py:1: DegenerateDataWarning: The BCa confidence interval cannot be calculated. This problem is known to occur when the distribution is degenerate or the statistic is np.min.\n",
      "  ss.bootstrap([matches_per_user.query(\"group==0\")[\"size\"],\n"
     ]
    },
    {
     "data": {
      "text/plain": [
       "BootstrapResult(confidence_interval=ConfidenceInterval(low=nan, high=nan), bootstrap_distribution=array([-6., -6., -6., ..., -6., -6., -6.]), standard_error=0.059044523937592956)"
      ]
     },
     "execution_count": 44,
     "metadata": {},
     "output_type": "execute_result"
    }
   ],
   "source": [
    "ss.bootstrap([matches_per_user.query(\"group==0\")[\"size\"], \n",
    "              matches_per_user.query(\"group==1\")[\"size\"]], \n",
    "             statistic=lambda x, y: np.median(x) - np.median(y)) \n",
    "# Доверительный интервал для различий в медиане составляет [-6]"
   ]
  },
  {
   "cell_type": "code",
   "execution_count": 34,
   "id": "1323fc47-571c-48ab-a5a6-16af05c0d23d",
   "metadata": {},
   "outputs": [
    {
     "data": {
      "text/plain": [
       "array([-6., -6.])"
      ]
     },
     "execution_count": 34,
     "metadata": {},
     "output_type": "execute_result"
    }
   ],
   "source": [
    "pg.compute_bootci(matches_per_user.query(\"group==0\")[\"size\"], \n",
    "                  matches_per_user.query(\"group==1\")[\"size\"], \n",
    "                  func=lambda x, y: np.median(x) - np.median(y)) #cper, медианы"
   ]
  },
  {
   "cell_type": "code",
   "execution_count": 35,
   "id": "917d334b-cf93-4f62-871f-dac2f23da936",
   "metadata": {},
   "outputs": [
    {
     "data": {
      "text/plain": [
       "array([-5.88, -5.37])"
      ]
     },
     "execution_count": 35,
     "metadata": {},
     "output_type": "execute_result"
    }
   ],
   "source": [
    "pg.compute_bootci(matches_per_user.query(\"group==0\")[\"size\"], \n",
    "                  matches_per_user.query(\"group==1\")[\"size\"], \n",
    "                  func=lambda x, y: np.mean(x) - np.mean(y)) #cper, средние"
   ]
  },
  {
   "cell_type": "markdown",
   "id": "b3349753-a5be-4749-bc0b-02d8502460ad",
   "metadata": {},
   "source": [
    "__Регрессионная модель__"
   ]
  },
  {
   "cell_type": "code",
   "execution_count": 47,
   "id": "f681f31b-8b86-44b7-bf31-48cca0809a68",
   "metadata": {},
   "outputs": [
    {
     "name": "stdout",
     "output_type": "stream",
     "text": [
      "                            OLS Regression Results                            \n",
      "==============================================================================\n",
      "Dep. Variable:               is_match   R-squared:                       0.043\n",
      "Model:                            OLS   Adj. R-squared:                  0.043\n",
      "Method:                 Least Squares   F-statistic:                     647.2\n",
      "Date:                Sun, 01 Sep 2024   Prob (F-statistic):          1.04e-139\n",
      "Time:                        15:01:12   Log-Likelihood:                -9366.5\n",
      "No. Observations:               14514   AIC:                         1.874e+04\n",
      "Df Residuals:                   14512   BIC:                         1.875e+04\n",
      "Df Model:                           1                                         \n",
      "Covariance Type:            nonrobust                                         \n",
      "==============================================================================\n",
      "                 coef    std err          t      P>|t|      [0.025      0.975]\n",
      "------------------------------------------------------------------------------\n",
      "Intercept      0.1949      0.007     29.243      0.000       0.182       0.208\n",
      "group          0.2072      0.008     25.439      0.000       0.191       0.223\n",
      "==============================================================================\n",
      "Omnibus:                   133641.948   Durbin-Watson:                   2.012\n",
      "Prob(Omnibus):                  0.000   Jarque-Bera (JB):             2192.292\n",
      "Skew:                           0.643   Prob(JB):                         0.00\n",
      "Kurtosis:                       1.596   Cond. No.                         3.24\n",
      "==============================================================================\n",
      "\n",
      "Notes:\n",
      "[1] Standard Errors assume that the covariance matrix of the errors is correctly specified.\n"
     ]
    }
   ],
   "source": [
    "results = smf.ols('is_match ~ group', df).fit()\n",
    "print(results.summary())"
   ]
  },
  {
   "cell_type": "markdown",
   "id": "9a828c29-8421-483d-9816-25903d147a64",
   "metadata": {},
   "source": [
    "### Бутстрап и сравнение квантилей"
   ]
  },
  {
   "cell_type": "code",
   "execution_count": 46,
   "id": "6e6af219-6897-45b3-b262-4774b86622a2",
   "metadata": {},
   "outputs": [
    {
     "name": "stderr",
     "output_type": "stream",
     "text": [
      "C:\\Python\\Python312\\Lib\\site-packages\\pingouin\\plotting.py:818: FutureWarning: \n",
      "\n",
      "Passing `palette` without assigning `hue` is deprecated and will be removed in v0.14.0. Assign the `y` variable to `hue` and set `legend=False` for the same effect.\n",
      "\n",
      "  ax1 = sns.stripplot(\n",
      "C:\\Python\\Python312\\Lib\\site-packages\\pingouin\\plotting.py:869: UserWarning: set_ticklabels() should only be used with a fixed number of ticks, i.e. after set_ticks() or using a FixedLocator.\n",
      "  ax1.set_yticklabels([\"Y\", \"X\"], size=15)\n"
     ]
    },
    {
     "data": {
      "image/png": "[encoded data removed]",
      "text/plain": [
       "<Figure size 800x500 with 2 Axes>"
      ]
     },
     "metadata": {},
     "output_type": "display_data"
    }
   ],
   "source": [
    "pg.plot_shift(matches_per_user.query(\"group==0\")[\"size\"], \n",
    "              matches_per_user.query(\"group==1\")[\"size\"])\n",
    "plt.show()"
   ]
  },
  {
   "cell_type": "markdown",
   "id": "58c4aed0-cae4-4851-9d4d-01ad04953beb",
   "metadata": {},
   "source": [
    "__Число мэтчей на пользователя изменилось статистически значимо__ (в пользу тестовой группы)"
   ]
  },
  {
   "cell_type": "markdown",
   "id": "ca1d8e5e-591c-4ede-bf5c-d9073b32e322",
   "metadata": {},
   "source": [
    "## Вывод : вводим новые алгоритмы для приложения знакомств"
   ]
  }
 ],
 "metadata": {
  "kernelspec": {
   "display_name": "Python 3 (ipykernel)",
   "language": "python",
   "name": "python3"
  },
  "language_info": {
   "codemirror_mode": {
    "name": "ipython",
    "version": 3
   },
   "file_extension": ".py",
   "mimetype": "text/x-python",
   "name": "python",
   "nbconvert_exporter": "python",
   "pygments_lexer": "ipython3",
   "version": "3.12.1"
  }
 },
 "nbformat": 4,
 "nbformat_minor": 5
}
